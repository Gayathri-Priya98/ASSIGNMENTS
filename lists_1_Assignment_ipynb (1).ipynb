{
  "nbformat": 4,
  "nbformat_minor": 0,
  "metadata": {
    "colab": {
      "provenance": []
    },
    "kernelspec": {
      "name": "python3",
      "display_name": "Python 3"
    },
    "language_info": {
      "name": "python"
    }
  },
  "cells": [
    {
      "cell_type": "markdown",
      "source": [
        "1.Are lists mutable or immutable, explain with an example"
      ],
      "metadata": {
        "id": "Mxypr15V3U7e"
      }
    },
    {
      "cell_type": "code",
      "source": [
        "#Lists are mutable in Python, meaning their contents can be changed after creation. This includes modifying elements, adding new elements, or removing elements.\n",
        "my_list = [1, 2, 3, 4]\n",
        "print(\"Original List:\", my_list)\n",
        "\n",
        "# Modifying an element\n",
        "my_list[1] = 10\n",
        "print(\"After Modifying:\", my_list)\n",
        "\n",
        "# Adding a new element\n",
        "my_list.append(5)\n",
        "print(\"After Appending:\", my_list)\n",
        "\n",
        "# Removing an element\n",
        "my_list.remove(3)\n",
        "print(\"After Removing:\", my_list)\n"
      ],
      "metadata": {
        "id": "c_aTKXsT3p0P",
        "colab": {
          "base_uri": "https://localhost:8080/"
        },
        "outputId": "43232fbf-b712-4d7e-f4eb-b78c082c6892"
      },
      "execution_count": 1,
      "outputs": [
        {
          "output_type": "stream",
          "name": "stdout",
          "text": [
            "Original List: [1, 2, 3, 4]\n",
            "After Modifying: [1, 10, 3, 4]\n",
            "After Appending: [1, 10, 3, 4, 5]\n",
            "After Removing: [1, 10, 4, 5]\n"
          ]
        }
      ]
    },
    {
      "cell_type": "markdown",
      "source": [],
      "metadata": {
        "id": "Jd2G4J_c3tm7"
      }
    },
    {
      "cell_type": "markdown",
      "source": [
        "2.Take any example of list on your own and perform atleast 5 list operations on that"
      ],
      "metadata": {
        "id": "uPYH4kpZ3U97"
      }
    },
    {
      "cell_type": "code",
      "source": [
        "#write your code here\n",
        "fruits = [\"apple\", \"banana\", \"cherry\", \"mango\", \"orange\"]"
      ],
      "metadata": {
        "id": "vSxe0pwG36ME"
      },
      "execution_count": 3,
      "outputs": []
    },
    {
      "cell_type": "code",
      "source": [
        "fruits.append(\"grapes\")\n",
        "print(fruits)"
      ],
      "metadata": {
        "colab": {
          "base_uri": "https://localhost:8080/"
        },
        "id": "evsQUeD1_c_l",
        "outputId": "dc187003-8587-4b57-d379-18d613b53feb"
      },
      "execution_count": 4,
      "outputs": [
        {
          "output_type": "stream",
          "name": "stdout",
          "text": [
            "['apple', 'banana', 'cherry', 'mango', 'orange', 'grapes']\n"
          ]
        }
      ]
    },
    {
      "cell_type": "code",
      "source": [
        "fruits.insert(2, \"pineapple\")\n",
        "print(fruits)"
      ],
      "metadata": {
        "colab": {
          "base_uri": "https://localhost:8080/"
        },
        "id": "KyKSfmj2_hRR",
        "outputId": "ca2a3875-3ccd-4503-90a3-fa47a4a0a09b"
      },
      "execution_count": 5,
      "outputs": [
        {
          "output_type": "stream",
          "name": "stdout",
          "text": [
            "['apple', 'banana', 'pineapple', 'cherry', 'mango', 'orange', 'grapes']\n"
          ]
        }
      ]
    },
    {
      "cell_type": "code",
      "source": [
        "fruits.remove(\"banana\")\n",
        "print(fruits)"
      ],
      "metadata": {
        "colab": {
          "base_uri": "https://localhost:8080/"
        },
        "id": "yNVEkfD0_oDp",
        "outputId": "df638a04-7fa2-4cee-de49-995e4481ba73"
      },
      "execution_count": 6,
      "outputs": [
        {
          "output_type": "stream",
          "name": "stdout",
          "text": [
            "['apple', 'pineapple', 'cherry', 'mango', 'orange', 'grapes']\n"
          ]
        }
      ]
    },
    {
      "cell_type": "code",
      "source": [
        "fruits.sort()\n",
        "print(fruits)"
      ],
      "metadata": {
        "colab": {
          "base_uri": "https://localhost:8080/"
        },
        "id": "BXvjVAis_uAE",
        "outputId": "be3f03f5-d324-4559-d195-5bf21b8c9dec"
      },
      "execution_count": 7,
      "outputs": [
        {
          "output_type": "stream",
          "name": "stdout",
          "text": [
            "['apple', 'cherry', 'grapes', 'mango', 'orange', 'pineapple']\n"
          ]
        }
      ]
    },
    {
      "cell_type": "code",
      "source": [
        "fruits.reverse()\n",
        "print(fruits)"
      ],
      "metadata": {
        "colab": {
          "base_uri": "https://localhost:8080/"
        },
        "id": "N8flqayR_x12",
        "outputId": "2baee307-d2b2-4d63-d9cb-c36a11f0488a"
      },
      "execution_count": 8,
      "outputs": [
        {
          "output_type": "stream",
          "name": "stdout",
          "text": [
            "['pineapple', 'orange', 'mango', 'grapes', 'cherry', 'apple']\n"
          ]
        }
      ]
    },
    {
      "cell_type": "markdown",
      "source": [
        "3.Create a new list containing only the even numbers from the original list.\n",
        "\n",
        "original list ;[1,2,2,4,5,6,7,12,3,456,78,67,89,90]"
      ],
      "metadata": {
        "id": "1aSo9eEU3VAT"
      }
    },
    {
      "cell_type": "code",
      "source": [
        "#write your code here\n",
        "original_list = [1, 2, 2, 4, 5, 6, 7, 12, 3, 456, 78, 67, 89, 90]\n",
        "even_numbers = [num for num in original_list if num % 2 == 0]\n",
        "print(even_numbers)"
      ],
      "metadata": {
        "id": "e-_3vMX54Upe",
        "colab": {
          "base_uri": "https://localhost:8080/"
        },
        "outputId": "c9d1d516-ea51-409c-c7d6-c5005e86bc00"
      },
      "execution_count": 11,
      "outputs": [
        {
          "output_type": "stream",
          "name": "stdout",
          "text": [
            "[2, 2, 4, 6, 12, 456, 78, 90]\n"
          ]
        }
      ]
    },
    {
      "cell_type": "markdown",
      "source": [
        "4.Create a new list with the squares of each element in the original list.\n",
        "\n",
        "original list : [3,5,6,8,2,45]"
      ],
      "metadata": {
        "id": "y1b95q7k3VCz"
      }
    },
    {
      "cell_type": "code",
      "source": [
        "#write your code here\n",
        "original_list = [3, 5, 6, 8, 2, 45]\n",
        "squared_list = [num ** 2 for num in original_list]\n",
        "print(squared_list)"
      ],
      "metadata": {
        "id": "97M5xax24jM4",
        "colab": {
          "base_uri": "https://localhost:8080/"
        },
        "outputId": "3d3d0789-0249-4f6a-f86d-82b3f83fec7a"
      },
      "execution_count": 12,
      "outputs": [
        {
          "output_type": "stream",
          "name": "stdout",
          "text": [
            "[9, 25, 36, 64, 4, 2025]\n"
          ]
        }
      ]
    },
    {
      "cell_type": "markdown",
      "source": [
        "5.Check if all elements in the list are positive and return all the positive elements in a new list.\n",
        "\n",
        "input ; [12,23,4,56,77,-89,7,90,90,-87,-99]"
      ],
      "metadata": {
        "id": "pzrQ5WBZ3VFQ"
      }
    },
    {
      "cell_type": "code",
      "source": [
        "# write your code here\n",
        "original_list = [12, 23, 4, 56, 77, -89, 7, 90, 90, -87, -99]\n",
        "\n",
        "all_positive = all(num > 0 for num in original_list)\n",
        "print(\"Are all elements positive?\", all_positive)\n",
        "positive_list = [num for num in original_list if num > 0]\n",
        "print(\"List of positive numbers:\", positive_list)"
      ],
      "metadata": {
        "id": "8x0148io5FcT",
        "colab": {
          "base_uri": "https://localhost:8080/"
        },
        "outputId": "3e0d4dbe-ddbc-4d61-a0d8-85d767f97d31"
      },
      "execution_count": 13,
      "outputs": [
        {
          "output_type": "stream",
          "name": "stdout",
          "text": [
            "Are all elements positive? False\n",
            "List of positive numbers: [12, 23, 4, 56, 77, 7, 90, 90]\n"
          ]
        }
      ]
    }
  ]
}