{
  "nbformat": 4,
  "nbformat_minor": 0,
  "metadata": {
    "colab": {
      "provenance": []
    },
    "kernelspec": {
      "name": "python3",
      "display_name": "Python 3"
    },
    "language_info": {
      "name": "python"
    }
  },
  "cells": [
    {
      "cell_type": "markdown",
      "source": [
        "*** USE THE CONCEPT OF LOOPS TO SOLVE THE BELOW PROGRAMS***"
      ],
      "metadata": {
        "id": "LntIlHO5OfPf"
      }
    },
    {
      "cell_type": "markdown",
      "source": [
        "1) Python program to count the total number of digits in a number.\n",
        "\n",
        "TAKE THE INPUT NUMBER : 123456\n",
        "\n",
        "\n",
        "\n"
      ],
      "metadata": {
        "id": "vxHfbNtoOfRV"
      }
    },
    {
      "cell_type": "code",
      "source": [
        "#wRITE YOUR CODE HERE\n",
        "count=0\n",
        "for i in range (1,7):\n",
        "  count=count+1\n",
        "print(count)"
      ],
      "metadata": {
        "id": "_PKg5umLO2-q",
        "colab": {
          "base_uri": "https://localhost:8080/"
        },
        "outputId": "b7873e1e-5f85-4604-e9ca-001c39a7493e"
      },
      "execution_count": null,
      "outputs": [
        {
          "output_type": "stream",
          "name": "stdout",
          "text": [
            "6\n"
          ]
        }
      ]
    },
    {
      "cell_type": "markdown",
      "source": [
        "2) Python program to count the number of even and odd numbers from a series of numbers.\n",
        "\n",
        "num_list = [1,3,5,6,99,134,55]"
      ],
      "metadata": {
        "id": "bXf8Z8feOfTn"
      }
    },
    {
      "cell_type": "code",
      "source": [
        "#WRITE YOUR CODE HERE\n",
        "num_list = [1,3,5,6,99,134,55]\n",
        "even_count = 0\n",
        "odd_count = 0\n",
        "for i in num_list:\n",
        "  if i%2==0:\n",
        "    even_count = even_count+1\n",
        "  else:\n",
        "    odd_count = odd_count+1\n",
        "  print(even_count)\n",
        "  print(odd_count)\n"
      ],
      "metadata": {
        "id": "QzZjjwRCPIip",
        "colab": {
          "base_uri": "https://localhost:8080/"
        },
        "outputId": "402218aa-dfc9-4cd4-8028-bd1bb4ae754b"
      },
      "execution_count": null,
      "outputs": [
        {
          "output_type": "stream",
          "name": "stdout",
          "text": [
            "0\n",
            "1\n",
            "0\n",
            "2\n",
            "0\n",
            "3\n",
            "1\n",
            "3\n",
            "1\n",
            "4\n",
            "2\n",
            "4\n",
            "2\n",
            "5\n"
          ]
        }
      ]
    },
    {
      "cell_type": "markdown",
      "source": [
        "3) Python program to get the Fibonacci series between 0 to 50."
      ],
      "metadata": {
        "id": "Ae6CdE7hOfWZ"
      }
    },
    {
      "cell_type": "code",
      "source": [
        "#WRITE YOUR CODE HERE\n",
        "def fibonacci_upto_50():\n",
        "    a, b = 0, 1\n",
        "    while a <= 50:\n",
        "        print(a, end=\" \")\n",
        "        a, b = b, a + b\n",
        "\n",
        "fibonacci_upto_50()\n",
        "\n"
      ],
      "metadata": {
        "id": "_IIZYCLPPTwI",
        "colab": {
          "base_uri": "https://localhost:8080/"
        },
        "outputId": "3a74fa9e-d7c1-4424-e663-5f4a6171bc0c"
      },
      "execution_count": null,
      "outputs": [
        {
          "output_type": "stream",
          "name": "stdout",
          "text": [
            "0 1 1 2 3 5 8 13 21 34 "
          ]
        }
      ]
    },
    {
      "cell_type": "markdown",
      "source": [
        "4) Python program that accepts a string and calculates the number of digits and letters.\n",
        "\n",
        "Input\n",
        "\n",
        "WEBBLINDERS1234"
      ],
      "metadata": {
        "id": "VYbquVMROfZz"
      }
    },
    {
      "cell_type": "code",
      "source": [
        "#WRITE YOUR CODE\n",
        "input = \"WEBBLINDERS1234\"\n",
        "digit_count = 0\n",
        "Letter_count = 0\n",
        "for i in input:\n",
        "  if i.isdigit():\n",
        "    digit_count = digit_count+1\n",
        "  else:\n",
        "    Letter_count = Letter_count+1\n",
        "print(digit_count)\n",
        "print(Letter_count)\n",
        "\n"
      ],
      "metadata": {
        "id": "iGYeja7XPop3",
        "colab": {
          "base_uri": "https://localhost:8080/"
        },
        "outputId": "5c96a8b2-4c20-49ee-8002-7cb553903947"
      },
      "execution_count": null,
      "outputs": [
        {
          "output_type": "stream",
          "name": "stdout",
          "text": [
            "4\n",
            "11\n"
          ]
        }
      ]
    },
    {
      "cell_type": "markdown",
      "source": [
        "5) Python program to display all numbers within a range except the prime numbers.\n",
        "\n",
        "INPUT RANGE : 30 TO 80"
      ],
      "metadata": {
        "id": "RiVenPeDPqs_"
      }
    },
    {
      "cell_type": "code",
      "source": [
        "#WRITE YOUR CODE HERE\n",
        "def is_prime(num):\n",
        "    if num < 2:\n",
        "        return False\n",
        "    for i in range(2, int(num ** 0.5) + 1):\n",
        "        if num % i == 0:\n",
        "            return False\n",
        "    return True\n"
      ],
      "metadata": {
        "id": "UTm21ayAPX02"
      },
      "execution_count": null,
      "outputs": []
    }
  ]
}