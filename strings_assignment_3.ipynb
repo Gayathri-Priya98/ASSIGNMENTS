{
  "nbformat": 4,
  "nbformat_minor": 0,
  "metadata": {
    "colab": {
      "provenance": []
    },
    "kernelspec": {
      "name": "python3",
      "display_name": "Python 3"
    },
    "language_info": {
      "name": "python"
    }
  },
  "cells": [
    {
      "cell_type": "markdown",
      "source": [
        "1.Write a Python program to count the number of vowels in a string.\n",
        "\n",
        "input : hasdfgeuionhjl"
      ],
      "metadata": {
        "id": "q8RkYTES1QUW"
      }
    },
    {
      "cell_type": "code",
      "source": [
        "# write your code here\n",
        "def count_vowels(s):\n",
        "    vowels = \"aeiouAEIOU\"\n",
        "    count = sum(1 for char in s if char in vowels)\n",
        "    return count\n",
        "input_string = \"hasdfgeuionhjl\"\n",
        "print(\"Number of vowels:\", count_vowels(input_string))\n"
      ],
      "metadata": {
        "id": "UHi6ezjV1X0s",
        "colab": {
          "base_uri": "https://localhost:8080/"
        },
        "outputId": "3284569d-68d9-470c-d3ce-d8b5bfef0e5b"
      },
      "execution_count": 1,
      "outputs": [
        {
          "output_type": "stream",
          "name": "stdout",
          "text": [
            "Number of vowels: 5\n"
          ]
        }
      ]
    },
    {
      "cell_type": "markdown",
      "source": [
        "2.Write a Python program to count the occurrences of each word in a sentence.\n",
        "\n",
        "input : hi hello hi and and hi more and more programming"
      ],
      "metadata": {
        "id": "v7GBEK161QWy"
      }
    },
    {
      "cell_type": "code",
      "source": [
        "# write your code here\n",
        "from collections import Counter\n",
        "def count_word_occurrences(sentence):\n",
        "    words = sentence.split()\n",
        "    word_counts = Counter(words)\n",
        "    return word_counts\n",
        "input_sentence = \"hi hello hi and and hi more and more programming\"\n",
        "word_counts = count_word_occurrences(input_sentence)\n",
        "for word, count in word_counts.items():\n",
        "    print(f\"'{word}': {count}\")\n"
      ],
      "metadata": {
        "id": "R-UzDybK1uZo",
        "colab": {
          "base_uri": "https://localhost:8080/"
        },
        "outputId": "e9fdf24d-e4e5-4caf-e599-4d60e33fe6a0"
      },
      "execution_count": 2,
      "outputs": [
        {
          "output_type": "stream",
          "name": "stdout",
          "text": [
            "'hi': 3\n",
            "'hello': 1\n",
            "'and': 3\n",
            "'more': 2\n",
            "'programming': 1\n"
          ]
        }
      ]
    },
    {
      "cell_type": "markdown",
      "source": [
        "3.In python how can you differentiate strings and lists. Give atleast 5 different comparisons between them."
      ],
      "metadata": {
        "id": "evCcw-0H1QY9"
      }
    },
    {
      "cell_type": "markdown",
      "source": [
        "1.Mutability\n",
        "  String: Immutable (cannot be modified after creation).\n",
        "  List: Mutable (elements can be modified, added, or removed).\n",
        "2.Element Type\n",
        "   String: Contains only characters (each element is a single character).\n",
        "   List: Can contain multiple data types (integers, strings, objects, etc.)\n",
        "3.Iteration Output\n",
        "   String: Iterating over a string gives single characters.\n",
        "   List: Iterating over a list gives entire elements (which can be strings, numbers, or other lists).\n",
        "4.Concatenation & Modification\n",
        "  String: Concatenation creates a new string; modification requires reassignment.\n",
        "  List: Can be modified in place (append, extend, pop, etc.).\n",
        "5.Slicing Behavior\n",
        "   String: Slicing returns a new string.\n",
        "   List: Slicing returns a new list.\n",
        "\n",
        "\n"
      ],
      "metadata": {
        "id": "aOItneUn6HEn"
      }
    },
    {
      "cell_type": "markdown",
      "source": [
        "4.Write a string for your own of approximately 40 in length and perform any 5 different string operations on that."
      ],
      "metadata": {
        "id": "riR1PWxG1Qdq"
      }
    },
    {
      "cell_type": "code",
      "source": [
        "#Write your code here\n",
        "text = \"the wisdom wells\"\n"
      ],
      "metadata": {
        "id": "3bHyrDS12e8i"
      },
      "execution_count": 5,
      "outputs": []
    },
    {
      "cell_type": "code",
      "source": [
        "upper_text = text.upper()\n",
        "print(upper_text)"
      ],
      "metadata": {
        "colab": {
          "base_uri": "https://localhost:8080/"
        },
        "id": "Lq5NZwqH67PF",
        "outputId": "b7267a0a-69c0-430d-fc96-ba15de68334f"
      },
      "execution_count": 6,
      "outputs": [
        {
          "output_type": "stream",
          "name": "stdout",
          "text": [
            "THE WISDOM WELLS\n"
          ]
        }
      ]
    },
    {
      "cell_type": "code",
      "source": [
        "new_text = text.replace(\"wells\", \"Good\")\n",
        "print(new_text)\n"
      ],
      "metadata": {
        "colab": {
          "base_uri": "https://localhost:8080/"
        },
        "id": "_Ok5zZYm7vif",
        "outputId": "bc2ec6c5-2f86-4540-c342-59b673deb35b"
      },
      "execution_count": 8,
      "outputs": [
        {
          "output_type": "stream",
          "name": "stdout",
          "text": [
            "the wisdom Good\n"
          ]
        }
      ]
    },
    {
      "cell_type": "code",
      "source": [
        "words = text.split()\n",
        "print(words)\n",
        "\n"
      ],
      "metadata": {
        "colab": {
          "base_uri": "https://localhost:8080/"
        },
        "id": "o6h5QjSk8CiU",
        "outputId": "80b230e5-913a-487a-f9b2-5f974d91dcb7"
      },
      "execution_count": 12,
      "outputs": [
        {
          "output_type": "stream",
          "name": "stdout",
          "text": [
            "['the', 'wisdom', 'wells']\n"
          ]
        }
      ]
    },
    {
      "cell_type": "code",
      "source": [
        "starts_with_coding = text.startswith(\"wisdom\")\n",
        "print(starts_with_coding)"
      ],
      "metadata": {
        "colab": {
          "base_uri": "https://localhost:8080/"
        },
        "id": "5gAJ1UQa86E3",
        "outputId": "e73c5ef0-6764-47d0-d996-61965503a95b"
      },
      "execution_count": 13,
      "outputs": [
        {
          "output_type": "stream",
          "name": "stdout",
          "text": [
            "False\n"
          ]
        }
      ]
    },
    {
      "cell_type": "markdown",
      "source": [
        "5.Explain the concatination in strings with a neat example."
      ],
      "metadata": {
        "id": "bbUm7VVN1Qfu"
      }
    },
    {
      "cell_type": "code",
      "source": [
        "#Concatenation means joining two or more strings together. In Python, we can concatenate strings using the + operator or the join() method.\n",
        "str1 = \"Hello\"\n",
        "str2 = \"World\"\n",
        "result = str1 + \" \" + str2\n",
        "print(result)"
      ],
      "metadata": {
        "id": "y9292Q452tF0",
        "colab": {
          "base_uri": "https://localhost:8080/"
        },
        "outputId": "f40547bd-4585-43b0-cd09-20da92dd9db6"
      },
      "execution_count": 14,
      "outputs": [
        {
          "output_type": "stream",
          "name": "stdout",
          "text": [
            "Hello World\n"
          ]
        }
      ]
    },
    {
      "cell_type": "code",
      "source": [
        "words = [\"Python\", \"is\", \"awesome\"]\n",
        "sentence = \" \".join(words)\n",
        "print(sentence)"
      ],
      "metadata": {
        "id": "vnMNtJgq2xuG",
        "colab": {
          "base_uri": "https://localhost:8080/"
        },
        "outputId": "c500c1f9-be2f-4a2c-eb92-c8b525d42c41"
      },
      "execution_count": 15,
      "outputs": [
        {
          "output_type": "stream",
          "name": "stdout",
          "text": [
            "Python is awesome\n"
          ]
        }
      ]
    }
  ]
}