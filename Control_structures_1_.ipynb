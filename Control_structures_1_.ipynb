{
  "nbformat": 4,
  "nbformat_minor": 0,
  "metadata": {
    "colab": {
      "provenance": []
    },
    "kernelspec": {
      "name": "python3",
      "display_name": "Python 3"
    },
    "language_info": {
      "name": "python"
    }
  },
  "cells": [
    {
      "cell_type": "markdown",
      "source": [
        "** USE THE CONCEPT OF LOOP TO SOLVE TEHE BELOW QUIRIES **"
      ],
      "metadata": {
        "id": "-j3jwvf4Nex8"
      }
    },
    {
      "cell_type": "markdown",
      "source": [
        "  1) Print the first 10 natural numbers using for loop."
      ],
      "metadata": {
        "id": "e5fJbKobMfrV"
      }
    },
    {
      "cell_type": "code",
      "source": [
        "for i in range(1, 11):\n",
        "  i"
      ],
      "metadata": {
        "id": "dvVRbCfHMiM2"
      },
      "execution_count": 3,
      "outputs": []
    },
    {
      "cell_type": "markdown",
      "source": [
        "2) Python program to print all the even numbers within the given range.\n",
        "\n",
        "Range = 0 to 100"
      ],
      "metadata": {
        "id": "z6Z_rllrM3EW"
      }
    },
    {
      "cell_type": "code",
      "source": [
        "#Write your code Here\n",
        "for i in range (0, 101):\n",
        "  if i%2==0:\n",
        "   print(i)"
      ],
      "metadata": {
        "id": "iu86kKj8MwAr",
        "colab": {
          "base_uri": "https://localhost:8080/"
        },
        "outputId": "c6b01104-e8c4-4b4b-8e81-7664d54018c5"
      },
      "execution_count": 5,
      "outputs": [
        {
          "output_type": "stream",
          "name": "stdout",
          "text": [
            "0\n",
            "2\n",
            "4\n",
            "6\n",
            "8\n",
            "10\n",
            "12\n",
            "14\n",
            "16\n",
            "18\n",
            "20\n",
            "22\n",
            "24\n",
            "26\n",
            "28\n",
            "30\n",
            "32\n",
            "34\n",
            "36\n",
            "38\n",
            "40\n",
            "42\n",
            "44\n",
            "46\n",
            "48\n",
            "50\n",
            "52\n",
            "54\n",
            "56\n",
            "58\n",
            "60\n",
            "62\n",
            "64\n",
            "66\n",
            "68\n",
            "70\n",
            "72\n",
            "74\n",
            "76\n",
            "78\n",
            "80\n",
            "82\n",
            "84\n",
            "86\n",
            "88\n",
            "90\n",
            "92\n",
            "94\n",
            "96\n",
            "98\n",
            "100\n"
          ]
        }
      ]
    },
    {
      "cell_type": "markdown",
      "source": [
        "3) Python program to calculate the sum of all numbers from 1 to a given number.\n",
        "\n",
        "Given Range = 15"
      ],
      "metadata": {
        "id": "8d-LECSINC6s"
      }
    },
    {
      "cell_type": "code",
      "source": [
        "#Write your Code Here\n",
        "sum=0\n",
        "for i in range(1, 16):\n",
        "  sum=sum+i\n",
        "print(sum)"
      ],
      "metadata": {
        "id": "bBd7nbLLNSoA",
        "colab": {
          "base_uri": "https://localhost:8080/"
        },
        "outputId": "eb0a6ff3-7fe5-421b-8d00-e0a7f1cf85eb"
      },
      "execution_count": 6,
      "outputs": [
        {
          "output_type": "stream",
          "name": "stdout",
          "text": [
            "120\n"
          ]
        }
      ]
    },
    {
      "cell_type": "markdown",
      "source": [
        "4) Python program to calculate the sum of all the odd numbers within the given range.\n",
        "\n",
        "Given Range = 10"
      ],
      "metadata": {
        "id": "nKJA-USXNRsk"
      }
    },
    {
      "cell_type": "code",
      "source": [
        "# Write your code Here\n",
        "for i in range (0, 11):\n",
        "  if i%2!=0:\n",
        "   print(i)"
      ],
      "metadata": {
        "id": "Q520Z2gXNwMV",
        "colab": {
          "base_uri": "https://localhost:8080/"
        },
        "outputId": "9a75a106-650e-4411-b9f9-52d7e51332fc"
      },
      "execution_count": 7,
      "outputs": [
        {
          "output_type": "stream",
          "name": "stdout",
          "text": [
            "1\n",
            "3\n",
            "5\n",
            "7\n",
            "9\n"
          ]
        }
      ]
    },
    {
      "cell_type": "markdown",
      "source": [
        "5) Python program to print a multiplication table of a given number\n",
        "\n",
        "given number = 5"
      ],
      "metadata": {
        "id": "uTwmyMFiNEM8"
      }
    },
    {
      "cell_type": "code",
      "source": [
        "# Write your code here\n",
        "for i in range(1, 11):\n",
        "  print(5*i)"
      ],
      "metadata": {
        "id": "ZlLy8g2kN6F7",
        "colab": {
          "base_uri": "https://localhost:8080/"
        },
        "outputId": "17c7e759-1370-4a5f-d171-3fae7fca0d5e"
      },
      "execution_count": 8,
      "outputs": [
        {
          "output_type": "stream",
          "name": "stdout",
          "text": [
            "5\n",
            "10\n",
            "15\n",
            "20\n",
            "25\n",
            "30\n",
            "35\n",
            "40\n",
            "45\n",
            "50\n"
          ]
        }
      ]
    }
  ]
}